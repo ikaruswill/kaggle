{
 "cells": [
  {
   "cell_type": "code",
   "execution_count": 1,
   "metadata": {},
   "outputs": [],
   "source": [
    "import pandas as pd\n",
    "import numpy as np"
   ]
  },
  {
   "cell_type": "code",
   "execution_count": 84,
   "metadata": {},
   "outputs": [],
   "source": [
    "train_df = pd.read_csv('cs-training.csv')\n",
    "test_df = pd.read_csv('cs-test.csv')"
   ]
  },
  {
   "cell_type": "code",
   "execution_count": null,
   "metadata": {},
   "outputs": [],
   "source": [
    "features = train_df.drop('Unnamed: 0', axis=1).columns.tolist()"
   ]
  },
  {
   "cell_type": "markdown",
   "metadata": {},
   "source": [
    "# Explore data"
   ]
  },
  {
   "cell_type": "code",
   "execution_count": 10,
   "metadata": {},
   "outputs": [
    {
     "data": {
      "text/html": [
       "<div>\n",
       "<style scoped>\n",
       "    .dataframe tbody tr th:only-of-type {\n",
       "        vertical-align: middle;\n",
       "    }\n",
       "\n",
       "    .dataframe tbody tr th {\n",
       "        vertical-align: top;\n",
       "    }\n",
       "\n",
       "    .dataframe thead th {\n",
       "        text-align: right;\n",
       "    }\n",
       "</style>\n",
       "<table border=\"1\" class=\"dataframe\">\n",
       "  <thead>\n",
       "    <tr style=\"text-align: right;\">\n",
       "      <th></th>\n",
       "      <th>SeriousDlqin2yrs</th>\n",
       "      <th>RevolvingUtilizationOfUnsecuredLines</th>\n",
       "      <th>age</th>\n",
       "      <th>NumberOfTime30-59DaysPastDueNotWorse</th>\n",
       "      <th>DebtRatio</th>\n",
       "      <th>MonthlyIncome</th>\n",
       "      <th>NumberOfOpenCreditLinesAndLoans</th>\n",
       "      <th>NumberOfTimes90DaysLate</th>\n",
       "      <th>NumberRealEstateLoansOrLines</th>\n",
       "      <th>NumberOfTime60-89DaysPastDueNotWorse</th>\n",
       "      <th>NumberOfDependents</th>\n",
       "    </tr>\n",
       "  </thead>\n",
       "  <tbody>\n",
       "    <tr>\n",
       "      <th>count</th>\n",
       "      <td>150000.000000</td>\n",
       "      <td>150000.000000</td>\n",
       "      <td>150000.000000</td>\n",
       "      <td>150000.000000</td>\n",
       "      <td>150000.000000</td>\n",
       "      <td>1.202690e+05</td>\n",
       "      <td>150000.000000</td>\n",
       "      <td>150000.000000</td>\n",
       "      <td>150000.000000</td>\n",
       "      <td>150000.000000</td>\n",
       "      <td>146076.000000</td>\n",
       "    </tr>\n",
       "    <tr>\n",
       "      <th>mean</th>\n",
       "      <td>0.066840</td>\n",
       "      <td>6.048438</td>\n",
       "      <td>52.295207</td>\n",
       "      <td>0.421033</td>\n",
       "      <td>353.005076</td>\n",
       "      <td>6.670221e+03</td>\n",
       "      <td>8.452760</td>\n",
       "      <td>0.265973</td>\n",
       "      <td>1.018240</td>\n",
       "      <td>0.240387</td>\n",
       "      <td>0.757222</td>\n",
       "    </tr>\n",
       "    <tr>\n",
       "      <th>std</th>\n",
       "      <td>0.249746</td>\n",
       "      <td>249.755371</td>\n",
       "      <td>14.771866</td>\n",
       "      <td>4.192781</td>\n",
       "      <td>2037.818523</td>\n",
       "      <td>1.438467e+04</td>\n",
       "      <td>5.145951</td>\n",
       "      <td>4.169304</td>\n",
       "      <td>1.129771</td>\n",
       "      <td>4.155179</td>\n",
       "      <td>1.115086</td>\n",
       "    </tr>\n",
       "    <tr>\n",
       "      <th>min</th>\n",
       "      <td>0.000000</td>\n",
       "      <td>0.000000</td>\n",
       "      <td>0.000000</td>\n",
       "      <td>0.000000</td>\n",
       "      <td>0.000000</td>\n",
       "      <td>0.000000e+00</td>\n",
       "      <td>0.000000</td>\n",
       "      <td>0.000000</td>\n",
       "      <td>0.000000</td>\n",
       "      <td>0.000000</td>\n",
       "      <td>0.000000</td>\n",
       "    </tr>\n",
       "    <tr>\n",
       "      <th>25%</th>\n",
       "      <td>0.000000</td>\n",
       "      <td>0.029867</td>\n",
       "      <td>41.000000</td>\n",
       "      <td>0.000000</td>\n",
       "      <td>0.175074</td>\n",
       "      <td>3.400000e+03</td>\n",
       "      <td>5.000000</td>\n",
       "      <td>0.000000</td>\n",
       "      <td>0.000000</td>\n",
       "      <td>0.000000</td>\n",
       "      <td>0.000000</td>\n",
       "    </tr>\n",
       "    <tr>\n",
       "      <th>50%</th>\n",
       "      <td>0.000000</td>\n",
       "      <td>0.154181</td>\n",
       "      <td>52.000000</td>\n",
       "      <td>0.000000</td>\n",
       "      <td>0.366508</td>\n",
       "      <td>5.400000e+03</td>\n",
       "      <td>8.000000</td>\n",
       "      <td>0.000000</td>\n",
       "      <td>1.000000</td>\n",
       "      <td>0.000000</td>\n",
       "      <td>0.000000</td>\n",
       "    </tr>\n",
       "    <tr>\n",
       "      <th>75%</th>\n",
       "      <td>0.000000</td>\n",
       "      <td>0.559046</td>\n",
       "      <td>63.000000</td>\n",
       "      <td>0.000000</td>\n",
       "      <td>0.868254</td>\n",
       "      <td>8.249000e+03</td>\n",
       "      <td>11.000000</td>\n",
       "      <td>0.000000</td>\n",
       "      <td>2.000000</td>\n",
       "      <td>0.000000</td>\n",
       "      <td>1.000000</td>\n",
       "    </tr>\n",
       "    <tr>\n",
       "      <th>max</th>\n",
       "      <td>1.000000</td>\n",
       "      <td>50708.000000</td>\n",
       "      <td>109.000000</td>\n",
       "      <td>98.000000</td>\n",
       "      <td>329664.000000</td>\n",
       "      <td>3.008750e+06</td>\n",
       "      <td>58.000000</td>\n",
       "      <td>98.000000</td>\n",
       "      <td>54.000000</td>\n",
       "      <td>98.000000</td>\n",
       "      <td>20.000000</td>\n",
       "    </tr>\n",
       "  </tbody>\n",
       "</table>\n",
       "</div>"
      ],
      "text/plain": [
       "       SeriousDlqin2yrs  RevolvingUtilizationOfUnsecuredLines            age  \\\n",
       "count     150000.000000                         150000.000000  150000.000000   \n",
       "mean           0.066840                              6.048438      52.295207   \n",
       "std            0.249746                            249.755371      14.771866   \n",
       "min            0.000000                              0.000000       0.000000   \n",
       "25%            0.000000                              0.029867      41.000000   \n",
       "50%            0.000000                              0.154181      52.000000   \n",
       "75%            0.000000                              0.559046      63.000000   \n",
       "max            1.000000                          50708.000000     109.000000   \n",
       "\n",
       "       NumberOfTime30-59DaysPastDueNotWorse      DebtRatio  MonthlyIncome  \\\n",
       "count                         150000.000000  150000.000000   1.202690e+05   \n",
       "mean                               0.421033     353.005076   6.670221e+03   \n",
       "std                                4.192781    2037.818523   1.438467e+04   \n",
       "min                                0.000000       0.000000   0.000000e+00   \n",
       "25%                                0.000000       0.175074   3.400000e+03   \n",
       "50%                                0.000000       0.366508   5.400000e+03   \n",
       "75%                                0.000000       0.868254   8.249000e+03   \n",
       "max                               98.000000  329664.000000   3.008750e+06   \n",
       "\n",
       "       NumberOfOpenCreditLinesAndLoans  NumberOfTimes90DaysLate  \\\n",
       "count                    150000.000000            150000.000000   \n",
       "mean                          8.452760                 0.265973   \n",
       "std                           5.145951                 4.169304   \n",
       "min                           0.000000                 0.000000   \n",
       "25%                           5.000000                 0.000000   \n",
       "50%                           8.000000                 0.000000   \n",
       "75%                          11.000000                 0.000000   \n",
       "max                          58.000000                98.000000   \n",
       "\n",
       "       NumberRealEstateLoansOrLines  NumberOfTime60-89DaysPastDueNotWorse  \\\n",
       "count                 150000.000000                         150000.000000   \n",
       "mean                       1.018240                              0.240387   \n",
       "std                        1.129771                              4.155179   \n",
       "min                        0.000000                              0.000000   \n",
       "25%                        0.000000                              0.000000   \n",
       "50%                        1.000000                              0.000000   \n",
       "75%                        2.000000                              0.000000   \n",
       "max                       54.000000                             98.000000   \n",
       "\n",
       "       NumberOfDependents  \n",
       "count       146076.000000  \n",
       "mean             0.757222  \n",
       "std              1.115086  \n",
       "min              0.000000  \n",
       "25%              0.000000  \n",
       "50%              0.000000  \n",
       "75%              1.000000  \n",
       "max             20.000000  "
      ]
     },
     "execution_count": 10,
     "metadata": {},
     "output_type": "execute_result"
    }
   ],
   "source": [
    "train_df[features].describe()"
   ]
  },
  {
   "cell_type": "code",
   "execution_count": 11,
   "metadata": {},
   "outputs": [
    {
     "data": {
      "text/html": [
       "<div>\n",
       "<style scoped>\n",
       "    .dataframe tbody tr th:only-of-type {\n",
       "        vertical-align: middle;\n",
       "    }\n",
       "\n",
       "    .dataframe tbody tr th {\n",
       "        vertical-align: top;\n",
       "    }\n",
       "\n",
       "    .dataframe thead th {\n",
       "        text-align: right;\n",
       "    }\n",
       "</style>\n",
       "<table border=\"1\" class=\"dataframe\">\n",
       "  <thead>\n",
       "    <tr style=\"text-align: right;\">\n",
       "      <th></th>\n",
       "      <th>SeriousDlqin2yrs</th>\n",
       "      <th>RevolvingUtilizationOfUnsecuredLines</th>\n",
       "      <th>age</th>\n",
       "      <th>NumberOfTime30-59DaysPastDueNotWorse</th>\n",
       "      <th>DebtRatio</th>\n",
       "      <th>MonthlyIncome</th>\n",
       "      <th>NumberOfOpenCreditLinesAndLoans</th>\n",
       "      <th>NumberOfTimes90DaysLate</th>\n",
       "      <th>NumberRealEstateLoansOrLines</th>\n",
       "      <th>NumberOfTime60-89DaysPastDueNotWorse</th>\n",
       "      <th>NumberOfDependents</th>\n",
       "    </tr>\n",
       "  </thead>\n",
       "  <tbody>\n",
       "    <tr>\n",
       "      <th>count</th>\n",
       "      <td>0.0</td>\n",
       "      <td>101503.000000</td>\n",
       "      <td>101503.000000</td>\n",
       "      <td>101503.000000</td>\n",
       "      <td>101503.000000</td>\n",
       "      <td>8.140000e+04</td>\n",
       "      <td>101503.000000</td>\n",
       "      <td>101503.000000</td>\n",
       "      <td>101503.000000</td>\n",
       "      <td>101503.000000</td>\n",
       "      <td>98877.000000</td>\n",
       "    </tr>\n",
       "    <tr>\n",
       "      <th>mean</th>\n",
       "      <td>NaN</td>\n",
       "      <td>5.310000</td>\n",
       "      <td>52.405436</td>\n",
       "      <td>0.453770</td>\n",
       "      <td>344.475020</td>\n",
       "      <td>6.855036e+03</td>\n",
       "      <td>8.453514</td>\n",
       "      <td>0.296691</td>\n",
       "      <td>1.013074</td>\n",
       "      <td>0.270317</td>\n",
       "      <td>0.769046</td>\n",
       "    </tr>\n",
       "    <tr>\n",
       "      <th>std</th>\n",
       "      <td>NaN</td>\n",
       "      <td>196.156039</td>\n",
       "      <td>14.779756</td>\n",
       "      <td>4.538487</td>\n",
       "      <td>1632.595231</td>\n",
       "      <td>3.650860e+04</td>\n",
       "      <td>5.144100</td>\n",
       "      <td>4.515859</td>\n",
       "      <td>1.110253</td>\n",
       "      <td>4.503578</td>\n",
       "      <td>1.136778</td>\n",
       "    </tr>\n",
       "    <tr>\n",
       "      <th>min</th>\n",
       "      <td>NaN</td>\n",
       "      <td>0.000000</td>\n",
       "      <td>21.000000</td>\n",
       "      <td>0.000000</td>\n",
       "      <td>0.000000</td>\n",
       "      <td>0.000000e+00</td>\n",
       "      <td>0.000000</td>\n",
       "      <td>0.000000</td>\n",
       "      <td>0.000000</td>\n",
       "      <td>0.000000</td>\n",
       "      <td>0.000000</td>\n",
       "    </tr>\n",
       "    <tr>\n",
       "      <th>25%</th>\n",
       "      <td>NaN</td>\n",
       "      <td>0.030131</td>\n",
       "      <td>41.000000</td>\n",
       "      <td>0.000000</td>\n",
       "      <td>0.173423</td>\n",
       "      <td>3.408000e+03</td>\n",
       "      <td>5.000000</td>\n",
       "      <td>0.000000</td>\n",
       "      <td>0.000000</td>\n",
       "      <td>0.000000</td>\n",
       "      <td>0.000000</td>\n",
       "    </tr>\n",
       "    <tr>\n",
       "      <th>50%</th>\n",
       "      <td>NaN</td>\n",
       "      <td>0.152586</td>\n",
       "      <td>52.000000</td>\n",
       "      <td>0.000000</td>\n",
       "      <td>0.364260</td>\n",
       "      <td>5.400000e+03</td>\n",
       "      <td>8.000000</td>\n",
       "      <td>0.000000</td>\n",
       "      <td>1.000000</td>\n",
       "      <td>0.000000</td>\n",
       "      <td>0.000000</td>\n",
       "    </tr>\n",
       "    <tr>\n",
       "      <th>75%</th>\n",
       "      <td>NaN</td>\n",
       "      <td>0.564225</td>\n",
       "      <td>63.000000</td>\n",
       "      <td>0.000000</td>\n",
       "      <td>0.851619</td>\n",
       "      <td>8.200000e+03</td>\n",
       "      <td>11.000000</td>\n",
       "      <td>0.000000</td>\n",
       "      <td>2.000000</td>\n",
       "      <td>0.000000</td>\n",
       "      <td>1.000000</td>\n",
       "    </tr>\n",
       "    <tr>\n",
       "      <th>max</th>\n",
       "      <td>NaN</td>\n",
       "      <td>21821.000000</td>\n",
       "      <td>104.000000</td>\n",
       "      <td>98.000000</td>\n",
       "      <td>268326.000000</td>\n",
       "      <td>7.727000e+06</td>\n",
       "      <td>85.000000</td>\n",
       "      <td>98.000000</td>\n",
       "      <td>37.000000</td>\n",
       "      <td>98.000000</td>\n",
       "      <td>43.000000</td>\n",
       "    </tr>\n",
       "  </tbody>\n",
       "</table>\n",
       "</div>"
      ],
      "text/plain": [
       "       SeriousDlqin2yrs  RevolvingUtilizationOfUnsecuredLines            age  \\\n",
       "count               0.0                         101503.000000  101503.000000   \n",
       "mean                NaN                              5.310000      52.405436   \n",
       "std                 NaN                            196.156039      14.779756   \n",
       "min                 NaN                              0.000000      21.000000   \n",
       "25%                 NaN                              0.030131      41.000000   \n",
       "50%                 NaN                              0.152586      52.000000   \n",
       "75%                 NaN                              0.564225      63.000000   \n",
       "max                 NaN                          21821.000000     104.000000   \n",
       "\n",
       "       NumberOfTime30-59DaysPastDueNotWorse      DebtRatio  MonthlyIncome  \\\n",
       "count                         101503.000000  101503.000000   8.140000e+04   \n",
       "mean                               0.453770     344.475020   6.855036e+03   \n",
       "std                                4.538487    1632.595231   3.650860e+04   \n",
       "min                                0.000000       0.000000   0.000000e+00   \n",
       "25%                                0.000000       0.173423   3.408000e+03   \n",
       "50%                                0.000000       0.364260   5.400000e+03   \n",
       "75%                                0.000000       0.851619   8.200000e+03   \n",
       "max                               98.000000  268326.000000   7.727000e+06   \n",
       "\n",
       "       NumberOfOpenCreditLinesAndLoans  NumberOfTimes90DaysLate  \\\n",
       "count                    101503.000000            101503.000000   \n",
       "mean                          8.453514                 0.296691   \n",
       "std                           5.144100                 4.515859   \n",
       "min                           0.000000                 0.000000   \n",
       "25%                           5.000000                 0.000000   \n",
       "50%                           8.000000                 0.000000   \n",
       "75%                          11.000000                 0.000000   \n",
       "max                          85.000000                98.000000   \n",
       "\n",
       "       NumberRealEstateLoansOrLines  NumberOfTime60-89DaysPastDueNotWorse  \\\n",
       "count                 101503.000000                         101503.000000   \n",
       "mean                       1.013074                              0.270317   \n",
       "std                        1.110253                              4.503578   \n",
       "min                        0.000000                              0.000000   \n",
       "25%                        0.000000                              0.000000   \n",
       "50%                        1.000000                              0.000000   \n",
       "75%                        2.000000                              0.000000   \n",
       "max                       37.000000                             98.000000   \n",
       "\n",
       "       NumberOfDependents  \n",
       "count        98877.000000  \n",
       "mean             0.769046  \n",
       "std              1.136778  \n",
       "min              0.000000  \n",
       "25%              0.000000  \n",
       "50%              0.000000  \n",
       "75%              1.000000  \n",
       "max             43.000000  "
      ]
     },
     "execution_count": 11,
     "metadata": {},
     "output_type": "execute_result"
    }
   ],
   "source": [
    "test_df[features].describe()"
   ]
  },
  {
   "cell_type": "markdown",
   "metadata": {},
   "source": [
    "## Check NA counts"
   ]
  },
  {
   "cell_type": "code",
   "execution_count": 29,
   "metadata": {},
   "outputs": [
    {
     "data": {
      "text/plain": [
       "SeriousDlqin2yrs                            0\n",
       "RevolvingUtilizationOfUnsecuredLines        0\n",
       "age                                         0\n",
       "NumberOfTime30-59DaysPastDueNotWorse        0\n",
       "DebtRatio                                   0\n",
       "MonthlyIncome                           29731\n",
       "NumberOfOpenCreditLinesAndLoans             0\n",
       "NumberOfTimes90DaysLate                     0\n",
       "NumberRealEstateLoansOrLines                0\n",
       "NumberOfTime60-89DaysPastDueNotWorse        0\n",
       "NumberOfDependents                       3924\n",
       "dtype: int64"
      ]
     },
     "execution_count": 29,
     "metadata": {},
     "output_type": "execute_result"
    }
   ],
   "source": [
    "train_df.isna().sum()"
   ]
  },
  {
   "cell_type": "code",
   "execution_count": 35,
   "metadata": {},
   "outputs": [
    {
     "data": {
      "text/plain": [
       "SeriousDlqin2yrs                        101503\n",
       "RevolvingUtilizationOfUnsecuredLines         0\n",
       "age                                          0\n",
       "NumberOfTime30-59DaysPastDueNotWorse         0\n",
       "DebtRatio                                    0\n",
       "MonthlyIncome                            20103\n",
       "NumberOfOpenCreditLinesAndLoans              0\n",
       "NumberOfTimes90DaysLate                      0\n",
       "NumberRealEstateLoansOrLines                 0\n",
       "NumberOfTime60-89DaysPastDueNotWorse         0\n",
       "NumberOfDependents                        2626\n",
       "dtype: int64"
      ]
     },
     "execution_count": 35,
     "metadata": {},
     "output_type": "execute_result"
    }
   ],
   "source": [
    "test_df.isna().sum()"
   ]
  },
  {
   "cell_type": "code",
   "execution_count": 7,
   "metadata": {},
   "outputs": [],
   "source": [
    "label_col = 'SeriousDlqin2yrs'\n",
    "features = train_df.columns.tolist()\n",
    "features.remove(label_col)"
   ]
  },
  {
   "cell_type": "code",
   "execution_count": 24,
   "metadata": {},
   "outputs": [
    {
     "name": "stdout",
     "output_type": "stream",
     "text": [
      "['RevolvingUtilizationOfUnsecuredLines', 'age', 'NumberOfTime30-59DaysPastDueNotWorse', 'DebtRatio', 'MonthlyIncome', 'NumberOfOpenCreditLinesAndLoans', 'NumberOfTimes90DaysLate', 'NumberRealEstateLoansOrLines', 'NumberOfTime60-89DaysPastDueNotWorse', 'NumberOfDependents']\n"
     ]
    }
   ],
   "source": [
    "print(features)"
   ]
  },
  {
   "source": [
    "## Check linear correlations"
   ],
   "cell_type": "markdown",
   "metadata": {}
  },
  {
   "cell_type": "code",
   "execution_count": null,
   "metadata": {},
   "outputs": [],
   "source": [
    "import seaborn as sns\n",
    "from matplotlib import pyplot as plt\n",
    "\n",
    "nbr_features = len(features)\n",
    "chosen_df = train_df[features + [label_col]]\n",
    "corr_df = chosen_df.corr()\n",
    "corr_df = corr_df.round(2)\n",
    "mask = np.zeros_like(corr_df)\n",
    "mask[np.triu_indices_from(mask)] = True\n",
    "plt.figure(figsize=(nbr_features, nbr_features))\n",
    "ax = plt.axes()\n",
    "ax.set_title('Correlation matrix', fontsize=30)\n",
    "sns.heatmap(corr_df,\n",
    "            vmin=-1,\n",
    "            vmax=1,\n",
    "            cmap='coolwarm_r',\n",
    "            annot=True,\n",
    "            mask=mask,\n",
    "            ax=ax)"
   ]
  },
  {
   "cell_type": "markdown",
   "metadata": {},
   "source": [
    "## Initial modelling"
   ]
  },
  {
   "cell_type": "code",
   "execution_count": 36,
   "metadata": {},
   "outputs": [
    {
     "name": "stdout",
     "output_type": "stream",
     "text": [
      "AUC Mean: 0.8300258841859037, AUC Std: 0.004950210035184189\n"
     ]
    }
   ],
   "source": [
    "from sklearn.ensemble import RandomForestClassifier\n",
    "from sklearn.model_selection import StratifiedKFold\n",
    "from sklearn.metrics import roc_auc_score\n",
    "\n",
    "X, y = train_df.dropna()[features], train_df.dropna()[label_col]\n",
    "\n",
    "k = 5\n",
    "auc_scores = np.zeros((k,))\n",
    "for i, (train_idx, val_idx) in enumerate(StratifiedKFold(n_splits=k, random_state=999, shuffle=True).split(X, y)):\n",
    "    X_train_subset, y_train_subset = X.iloc[train_idx].values, y.iloc[train_idx].values\n",
    "    X_val_subset, y_val_subset = X.iloc[val_idx].values, y.iloc[val_idx].values\n",
    "\n",
    "    clf = RandomForestClassifier()\n",
    "    clf.fit(X_train_subset, y_train_subset)\n",
    "    y_hat = clf.predict_proba(X_val_subset)[:, 1]\n",
    "\n",
    "    # Evaluate AUC score\n",
    "    score = roc_auc_score(y_val_subset, y_hat)\n",
    "    auc_scores[i] = score\n",
    "\n",
    "print(f'AUC Mean: {auc_scores.mean()}, AUC Std: {auc_scores.std()}')"
   ]
  },
  {
   "cell_type": "markdown",
   "metadata": {},
   "source": [
    "## Impute missing values"
   ]
  },
  {
   "cell_type": "code",
   "execution_count": 4,
   "metadata": {},
   "outputs": [
    {
     "data": {
      "text/plain": [
       "SeriousDlqin2yrs                        0\n",
       "RevolvingUtilizationOfUnsecuredLines    0\n",
       "age                                     0\n",
       "NumberOfTime30-59DaysPastDueNotWorse    0\n",
       "DebtRatio                               0\n",
       "MonthlyIncome                           0\n",
       "NumberOfOpenCreditLinesAndLoans         0\n",
       "NumberOfTimes90DaysLate                 0\n",
       "NumberRealEstateLoansOrLines            0\n",
       "NumberOfTime60-89DaysPastDueNotWorse    0\n",
       "NumberOfDependents                      0\n",
       "dtype: int64"
      ]
     },
     "execution_count": 4,
     "metadata": {},
     "output_type": "execute_result"
    }
   ],
   "source": [
    "train_df = train_df.fillna(train_df.mean())\n",
    "train_df.isna().sum()"
   ]
  },
  {
   "cell_type": "code",
   "execution_count": 39,
   "metadata": {},
   "outputs": [
    {
     "name": "stdout",
     "output_type": "stream",
     "text": [
      "AUC Mean: 0.840679774499287, AUC Std: 0.003610485443550794\n"
     ]
    }
   ],
   "source": [
    "from sklearn.ensemble import RandomForestClassifier\n",
    "from sklearn.model_selection import StratifiedKFold\n",
    "from sklearn.metrics import roc_auc_score\n",
    "\n",
    "X, y = train_df[features], train_df[label_col]\n",
    "\n",
    "k = 5\n",
    "auc_scores = np.zeros((k,))\n",
    "for i, (train_idx, val_idx) in enumerate(StratifiedKFold(n_splits=k, random_state=999, shuffle=True).split(X, y)):\n",
    "    X_train_subset, y_train_subset = X.iloc[train_idx].values, y.iloc[train_idx].values\n",
    "    X_val_subset, y_val_subset = X.iloc[val_idx].values, y.iloc[val_idx].values\n",
    "\n",
    "    clf = RandomForestClassifier()\n",
    "    clf.fit(X_train_subset, y_train_subset)\n",
    "    y_hat = clf.predict_proba(X_val_subset)[:, 1]\n",
    "\n",
    "    # Evaluate AUC score\n",
    "    score = roc_auc_score(y_val_subset, y_hat)\n",
    "    auc_scores[i] = score\n",
    "\n",
    "print(f'AUC Mean: {auc_scores.mean()}, AUC Std: {auc_scores.std()}')"
   ]
  },
  {
   "cell_type": "markdown",
   "metadata": {},
   "source": [
    "# Modelling algorithm selection"
   ]
  },
  {
   "cell_type": "code",
   "execution_count": 9,
   "metadata": {},
   "outputs": [],
   "source": [
    "from sklearn.decomposition import PCA\n",
    "from sklearn.ensemble import RandomForestClassifier, ExtraTreesClassifier, AdaBoostClassifier\n",
    "from sklearn.svm import SVC, LinearSVC\n",
    "from sklearn.linear_model import LogisticRegression\n",
    "from sklearn.naive_bayes import GaussianNB\n",
    "from sklearn.preprocessing import StandardScaler\n",
    "from sklearn.pipeline import Pipeline\n",
    "from xgboost import XGBClassifier\n",
    "\n",
    "\n",
    "classifiers = [\n",
    "    {\n",
    "        'model_name': 'RandomForestClassifier 100t 3d',\n",
    "        'model_class': RandomForestClassifier,\n",
    "        'model_params': {\n",
    "            'n_estimators': 100,\n",
    "            'max_depth': 3,\n",
    "            'min_samples_leaf': 100,\n",
    "            'n_jobs': -1\n",
    "        }\n",
    "    },\n",
    "    {\n",
    "        'model_name': 'RandomForestClassifier 300 5d',\n",
    "        'model_class': RandomForestClassifier,\n",
    "        'model_params': {\n",
    "            'n_estimators': 300,\n",
    "            'max_depth': 5,\n",
    "            'min_samples_leaf': 100,\n",
    "            'n_jobs': -1\n",
    "        }\n",
    "    },\n",
    "    {\n",
    "        'model_name': 'ExtraTreesClassifier 100t 3d',\n",
    "        'model_class': ExtraTreesClassifier,\n",
    "        'model_params': {\n",
    "            'n_estimators': 100,\n",
    "            'max_depth': 3,\n",
    "            'min_samples_leaf': 100,\n",
    "            'n_jobs': -1\n",
    "        }\n",
    "    },\n",
    "    {\n",
    "        'model_name': 'ExtraTreesClassifier 300t 5d',\n",
    "        'model_class': ExtraTreesClassifier,\n",
    "        'model_params': {\n",
    "            'n_estimators': 300,\n",
    "            'max_depth': 5,\n",
    "            'min_samples_leaf': 100,\n",
    "            'n_jobs': -1\n",
    "        }\n",
    "    },\n",
    "    {\n",
    "        'model_name': 'LogisticRegression 1C liblinear',\n",
    "        'model_class': LogisticRegression,\n",
    "        'model_params': {\n",
    "            'solver': 'liblinear',\n",
    "            'C': 1.0\n",
    "        }\n",
    "    },\n",
    "    {\n",
    "        'model_name': 'LogisticRegression 10C liblinear',\n",
    "        'model_class': LogisticRegression,\n",
    "        'model_params': {\n",
    "            'solver': 'liblinear',\n",
    "            'C': 10.0\n",
    "        }\n",
    "    },\n",
    "    {\n",
    "        'model_name': 'LogisticRegression 0.1C liblinear',\n",
    "        'model_class': LogisticRegression,\n",
    "        'model_params': {\n",
    "            'solver': 'liblinear',\n",
    "            'C': 0.1\n",
    "        }\n",
    "    },\n",
    "    {\n",
    "        'model_name': 'PCA n2 => Logistic Regression 1.0c',\n",
    "        'model_class': Pipeline,\n",
    "        'model_params': {\n",
    "            'list': '''[\n",
    "                ('pca', PCA(n_components=2)),\n",
    "                ('svc', LogisticRegression(**{'C': 1.0, 'solver': 'liblinear'}))\n",
    "            ]'''\n",
    "        }\n",
    "    },\n",
    "    {\n",
    "        'model_name': 'PCA n5 => Logistic Regression 1.0c',\n",
    "        'model_class': Pipeline,\n",
    "        'model_params': {\n",
    "            'list': '''[\n",
    "                ('pca', PCA(n_components=5)),\n",
    "                ('svc', LogisticRegression(**{'C': 1.0, 'solver': 'liblinear'}))\n",
    "            ]'''\n",
    "        }\n",
    "    },\n",
    "    {\n",
    "        'model_name': 'PCA n10 => Logistic Regression 1.0c',\n",
    "        'model_class': Pipeline,\n",
    "        'model_params': {\n",
    "            'list': '''[\n",
    "                ('pca', PCA(n_components=10)),\n",
    "                ('svc', LogisticRegression(**{'C': 1.0, 'solver': 'liblinear'}))\n",
    "            ]'''\n",
    "        }\n",
    "    },\n",
    "    {\n",
    "        'model_name': 'AdaBoostClassifier 50r 0.05lr',\n",
    "        'model_class': AdaBoostClassifier,\n",
    "        'model_params': {\n",
    "            'learning_rate': 0.05,\n",
    "            'n_estimators': 50\n",
    "        }\n",
    "    },\n",
    "    {\n",
    "        'model_name': 'AdaBoostClassifier 100r 0.05lr',\n",
    "        'model_class': AdaBoostClassifier,\n",
    "        'model_params': {\n",
    "            'learning_rate': 0.05,\n",
    "            'n_estimators': 100,\n",
    "        }\n",
    "    },\n",
    "    {\n",
    "        'model_name': 'AdaBoostClassifier 200r 0.05lr',\n",
    "        'model_class': AdaBoostClassifier,\n",
    "        'model_params': {\n",
    "            'learning_rate': 0.05,\n",
    "            'n_estimators': 200,\n",
    "        }\n",
    "    },\n",
    "#     {\n",
    "#         'model_name': 'SVC linear 1.0c',\n",
    "#         'model_class': Pipeline,\n",
    "#         'model_params': {\n",
    "#             'list': '''[\n",
    "#                 ('scaler', StandardScaler()),\n",
    "#                 ('svc', SVC(**{'C': 1.0, 'kernel': 'linear', 'gamma': 'auto', 'probability': True}))\n",
    "#             ]'''\n",
    "#         }\n",
    "#     },\n",
    "#     {\n",
    "#         'model_name': 'SVC linear 5.0c',\n",
    "#         'model_class': Pipeline,\n",
    "#         'model_params': {\n",
    "#             'list': '''[\n",
    "#                 ('scaler', StandardScaler()),\n",
    "#                 ('svc', SVC(**{'C': 5.0, 'kernel': 'linear', 'gamma': 'auto', 'probability': True}))\n",
    "#             ]'''\n",
    "#         }\n",
    "#     },\n",
    "#     {\n",
    "#         'model_name': 'SVC RBF 1.0c',\n",
    "#         'model_class': Pipeline,\n",
    "#         'model_params': {\n",
    "#             'list': '''[\n",
    "#                 ('scaler', StandardScaler()),\n",
    "#                 ('svc', SVC(**{'C': 1.0, 'kernel': 'rbf', 'gamma': 'auto', 'probability': True}))\n",
    "#             ]'''\n",
    "#         }\n",
    "#     },\n",
    "#     {\n",
    "#         'model_name': 'SVC RBF 5.0c',\n",
    "#         'model_class': Pipeline,\n",
    "#         'model_params': {\n",
    "#             'list': '''[\n",
    "#                 ('scaler', StandardScaler()),\n",
    "#                 ('svc', SVC(**{'C': 5.0, 'kernel': 'rbf', 'gamma': 'auto', 'probability': True}))\n",
    "#             ]'''\n",
    "#         }\n",
    "#     },\n",
    "#     {\n",
    "#         'model_name': 'SVC Poly 2d 1.0c',\n",
    "#         'model_class': Pipeline,\n",
    "#         'model_params': {\n",
    "#             'list': '''[\n",
    "#                 ('scaler', StandardScaler()),\n",
    "#                 ('svc', SVC(**{'C': 1.0, 'kernel': 'poly', 'degree': 2, 'gamma': 'auto', 'probability': True}))\n",
    "#             ]'''\n",
    "#         }\n",
    "#     },\n",
    "#     {\n",
    "#         'model_name': 'SVC Poly 3d 1.0c',\n",
    "#         'model_class': Pipeline,\n",
    "#         'model_params': {\n",
    "#             'list': '''[\n",
    "#                 ('scaler', StandardScaler()),\n",
    "#                 ('svc', SVC(**{'C': 1.0, 'kernel': 'poly', 'degree': 3, 'gamma': 'auto', 'probability': True}))\n",
    "#             ]'''\n",
    "#         }\n",
    "#     },\n",
    "#     {\n",
    "#         'model_name': 'SVC Poly 4d 1.0c',\n",
    "#         'model_class': Pipeline,\n",
    "#         'model_params': {\n",
    "#             'list': '''[\n",
    "#                 ('scaler', StandardScaler()),\n",
    "#                 ('svc', SVC(**{'C': 1.0, 'kernel': 'poly', 'degree': 4, 'gamma': 'auto', 'probability': True}))\n",
    "#             ]'''\n",
    "#         }\n",
    "#     },\n",
    "    {\n",
    "        'model_name': 'XGBoost 100r 0.05lr 3d',\n",
    "        'model_class': XGBClassifier,\n",
    "        'model_params': {\n",
    "            'learning_rate': 0.05,\n",
    "            'n_estimators': 100,\n",
    "            'max_depth': 3,\n",
    "            'n_jobs': -1\n",
    "        }\n",
    "    },\n",
    "    {\n",
    "        'model_name': 'XGBoost 100r 0.05lr 4d',\n",
    "        'model_class': XGBClassifier,\n",
    "        'model_params': {\n",
    "            'learning_rate': 0.05,\n",
    "            'n_estimators': 100,\n",
    "            'max_depth': 4,\n",
    "            'n_jobs': -1\n",
    "        }\n",
    "    },\n",
    "    {\n",
    "        'model_name': 'XGBoost 200r 0.05lr 4d',\n",
    "        'model_class': XGBClassifier,\n",
    "        'model_params': {\n",
    "            'learning_rate': 0.05,\n",
    "            'n_estimators': 200,\n",
    "            'max_depth': 4,\n",
    "            'n_jobs': -1\n",
    "        }\n",
    "    },\n",
    "    {\n",
    "        'model_name': 'XGBoost 100r 0.05lr 5d',\n",
    "        'model_class': XGBClassifier,\n",
    "        'model_params': {\n",
    "            'learning_rate': 0.05,\n",
    "            'n_estimators': 100,\n",
    "            'max_depth': 5,\n",
    "            'n_jobs': -1\n",
    "        }\n",
    "    },\n",
    "]"
   ]
  },
  {
   "cell_type": "code",
   "execution_count": 10,
   "metadata": {},
   "outputs": [
    {
     "name": "stdout",
     "output_type": "stream",
     "text": [
      "Training RandomForestClassifier 100t 3d ...\n",
      "Training RandomForestClassifier 300 5d ...\n",
      "Training ExtraTreesClassifier 100t 3d ...\n",
      "Training ExtraTreesClassifier 300t 5d ...\n",
      "Training LogisticRegression 1C liblinear ...\n",
      "Training LogisticRegression 10C liblinear ...\n",
      "Training LogisticRegression 0.1C liblinear ...\n",
      "Training PCA n2 => Logistic Regression 1.0c ...\n",
      "Training PCA n5 => Logistic Regression 1.0c ...\n",
      "Training PCA n10 => Logistic Regression 1.0c ...\n",
      "Training AdaBoostClassifier 50r 0.05lr ...\n",
      "Training AdaBoostClassifier 100r 0.05lr ...\n",
      "Training AdaBoostClassifier 200r 0.05lr ...\n",
      "Training XGBoost 100r 0.05lr 3d ...\n",
      "Training XGBoost 100r 0.05lr 4d ...\n",
      "Training XGBoost 200r 0.05lr 4d ...\n",
      "Training XGBoost 100r 0.05lr 5d ...\n"
     ]
    }
   ],
   "source": [
    "import numpy as np\n",
    "from sklearn.model_selection import StratifiedKFold\n",
    "from sklearn.metrics import roc_auc_score\n",
    "\n",
    "label_col = 'SeriousDlqin2yrs'\n",
    "X = train_df[features]\n",
    "y = train_df[label_col]\n",
    "feature_subset = features\n",
    "k = 3\n",
    "random_state = 999\n",
    "\n",
    "clf_results = []\n",
    "for clf_config in classifiers:\n",
    "    clf_klass = clf_config['model_class']\n",
    "    clf_params = clf_config['model_params']\n",
    "    clf_name = clf_config['model_name']\n",
    "\n",
    "    print('Training', clf_name, '...')\n",
    "\n",
    "    \n",
    "    auc_scores = np.zeros((k,))\n",
    "    for i, (train_idx, val_idx) in enumerate(StratifiedKFold(n_splits=k, random_state=random_state, shuffle=True).split(X, y)):\n",
    "        X_train_subset, y_train_subset = X[feature_subset].iloc[train_idx].values, y.iloc[train_idx].values\n",
    "        X_val_subset, y_val_subset = X[feature_subset].iloc[val_idx].values, y.iloc[val_idx].values\n",
    "\n",
    "        if clf_klass == Pipeline:\n",
    "            clf = clf_klass(steps=eval(clf_params['list']))\n",
    "        else:\n",
    "            clf = clf_klass(**clf_params)\n",
    "        clf.fit(X_train_subset, y_train_subset)\n",
    "        y_hat = clf.predict_proba(X_val_subset)[:, 1]\n",
    "\n",
    "        # Evaluate AUC score\n",
    "        score = roc_auc_score(y_val_subset, y_hat)\n",
    "        auc_scores[i] = score\n",
    "\n",
    "    auc_mean = auc_scores.mean()\n",
    "    auc_std = auc_scores.std()\n",
    "\n",
    "    clf_results.append([clf_name, auc_mean, auc_std])"
   ]
  },
  {
   "cell_type": "code",
   "execution_count": 15,
   "metadata": {},
   "outputs": [
    {
     "data": {
      "text/html": [
       "<div>\n",
       "<style scoped>\n",
       "    .dataframe tbody tr th:only-of-type {\n",
       "        vertical-align: middle;\n",
       "    }\n",
       "\n",
       "    .dataframe tbody tr th {\n",
       "        vertical-align: top;\n",
       "    }\n",
       "\n",
       "    .dataframe thead th {\n",
       "        text-align: right;\n",
       "    }\n",
       "</style>\n",
       "<table border=\"1\" class=\"dataframe\">\n",
       "  <thead>\n",
       "    <tr style=\"text-align: right;\">\n",
       "      <th></th>\n",
       "      <th>Classifier</th>\n",
       "      <th>AUC mean</th>\n",
       "      <th>AUC std</th>\n",
       "    </tr>\n",
       "  </thead>\n",
       "  <tbody>\n",
       "    <tr>\n",
       "      <th>15</th>\n",
       "      <td>XGBoost 200r 0.05lr 4d</td>\n",
       "      <td>0.864584</td>\n",
       "      <td>0.004446</td>\n",
       "    </tr>\n",
       "    <tr>\n",
       "      <th>16</th>\n",
       "      <td>XGBoost 100r 0.05lr 5d</td>\n",
       "      <td>0.862459</td>\n",
       "      <td>0.004513</td>\n",
       "    </tr>\n",
       "    <tr>\n",
       "      <th>14</th>\n",
       "      <td>XGBoost 100r 0.05lr 4d</td>\n",
       "      <td>0.861229</td>\n",
       "      <td>0.004696</td>\n",
       "    </tr>\n",
       "    <tr>\n",
       "      <th>13</th>\n",
       "      <td>XGBoost 100r 0.05lr 3d</td>\n",
       "      <td>0.859014</td>\n",
       "      <td>0.004774</td>\n",
       "    </tr>\n",
       "    <tr>\n",
       "      <th>1</th>\n",
       "      <td>RandomForestClassifier 300 5d</td>\n",
       "      <td>0.858760</td>\n",
       "      <td>0.004969</td>\n",
       "    </tr>\n",
       "    <tr>\n",
       "      <th>12</th>\n",
       "      <td>AdaBoostClassifier 200r 0.05lr</td>\n",
       "      <td>0.856643</td>\n",
       "      <td>0.005005</td>\n",
       "    </tr>\n",
       "    <tr>\n",
       "      <th>0</th>\n",
       "      <td>RandomForestClassifier 100t 3d</td>\n",
       "      <td>0.852986</td>\n",
       "      <td>0.006036</td>\n",
       "    </tr>\n",
       "    <tr>\n",
       "      <th>11</th>\n",
       "      <td>AdaBoostClassifier 100r 0.05lr</td>\n",
       "      <td>0.850876</td>\n",
       "      <td>0.005110</td>\n",
       "    </tr>\n",
       "    <tr>\n",
       "      <th>10</th>\n",
       "      <td>AdaBoostClassifier 50r 0.05lr</td>\n",
       "      <td>0.842842</td>\n",
       "      <td>0.004457</td>\n",
       "    </tr>\n",
       "    <tr>\n",
       "      <th>3</th>\n",
       "      <td>ExtraTreesClassifier 300t 5d</td>\n",
       "      <td>0.822608</td>\n",
       "      <td>0.006408</td>\n",
       "    </tr>\n",
       "    <tr>\n",
       "      <th>2</th>\n",
       "      <td>ExtraTreesClassifier 100t 3d</td>\n",
       "      <td>0.817122</td>\n",
       "      <td>0.006350</td>\n",
       "    </tr>\n",
       "    <tr>\n",
       "      <th>9</th>\n",
       "      <td>PCA n10 =&gt; Logistic Regression 1.0c</td>\n",
       "      <td>0.698164</td>\n",
       "      <td>0.003015</td>\n",
       "    </tr>\n",
       "    <tr>\n",
       "      <th>4</th>\n",
       "      <td>LogisticRegression 1C liblinear</td>\n",
       "      <td>0.695148</td>\n",
       "      <td>0.002050</td>\n",
       "    </tr>\n",
       "    <tr>\n",
       "      <th>6</th>\n",
       "      <td>LogisticRegression 0.1C liblinear</td>\n",
       "      <td>0.694834</td>\n",
       "      <td>0.002387</td>\n",
       "    </tr>\n",
       "    <tr>\n",
       "      <th>5</th>\n",
       "      <td>LogisticRegression 10C liblinear</td>\n",
       "      <td>0.691461</td>\n",
       "      <td>0.004980</td>\n",
       "    </tr>\n",
       "    <tr>\n",
       "      <th>8</th>\n",
       "      <td>PCA n5 =&gt; Logistic Regression 1.0c</td>\n",
       "      <td>0.656149</td>\n",
       "      <td>0.003987</td>\n",
       "    </tr>\n",
       "    <tr>\n",
       "      <th>7</th>\n",
       "      <td>PCA n2 =&gt; Logistic Regression 1.0c</td>\n",
       "      <td>0.574670</td>\n",
       "      <td>0.000817</td>\n",
       "    </tr>\n",
       "  </tbody>\n",
       "</table>\n",
       "</div>"
      ],
      "text/plain": [
       "                             Classifier  AUC mean   AUC std\n",
       "15               XGBoost 200r 0.05lr 4d  0.864584  0.004446\n",
       "16               XGBoost 100r 0.05lr 5d  0.862459  0.004513\n",
       "14               XGBoost 100r 0.05lr 4d  0.861229  0.004696\n",
       "13               XGBoost 100r 0.05lr 3d  0.859014  0.004774\n",
       "1         RandomForestClassifier 300 5d  0.858760  0.004969\n",
       "12       AdaBoostClassifier 200r 0.05lr  0.856643  0.005005\n",
       "0        RandomForestClassifier 100t 3d  0.852986  0.006036\n",
       "11       AdaBoostClassifier 100r 0.05lr  0.850876  0.005110\n",
       "10        AdaBoostClassifier 50r 0.05lr  0.842842  0.004457\n",
       "3          ExtraTreesClassifier 300t 5d  0.822608  0.006408\n",
       "2          ExtraTreesClassifier 100t 3d  0.817122  0.006350\n",
       "9   PCA n10 => Logistic Regression 1.0c  0.698164  0.003015\n",
       "4       LogisticRegression 1C liblinear  0.695148  0.002050\n",
       "6     LogisticRegression 0.1C liblinear  0.694834  0.002387\n",
       "5      LogisticRegression 10C liblinear  0.691461  0.004980\n",
       "8    PCA n5 => Logistic Regression 1.0c  0.656149  0.003987\n",
       "7    PCA n2 => Logistic Regression 1.0c  0.574670  0.000817"
      ]
     },
     "execution_count": 15,
     "metadata": {},
     "output_type": "execute_result"
    }
   ],
   "source": [
    "df_modelling_results = pd.DataFrame(clf_results, columns=['Classifier', 'AUC mean', 'AUC std'])\n",
    "df_modelling_results.sort_values('AUC mean', inplace=False, ascending=False)\n",
    "# df_modelling_results.to_csv('documentation/modelling_results.csv', index=False)"
   ]
  },
  {
   "cell_type": "markdown",
   "metadata": {},
   "source": [
    "# Model tuning"
   ]
  },
  {
   "cell_type": "code",
   "execution_count": 22,
   "metadata": {},
   "outputs": [],
   "source": [
    "trainval_X, trainval_Y = train_df[features], train_df[label_col]"
   ]
  },
  {
   "cell_type": "code",
   "execution_count": 32,
   "metadata": {},
   "outputs": [],
   "source": [
    "import xgboost\n",
    "from sklearn.metrics import roc_auc_score\n",
    "from matplotlib import pyplot as plt\n",
    "\n",
    "def optimize_n_estimators(alg, train_X, train_Y, useTrainCV=True, cv_folds=5, early_stopping_rounds=50):\n",
    "    \n",
    "    if useTrainCV:\n",
    "        xgb_param = alg.get_xgb_params()\n",
    "        xgtrain = xgboost.DMatrix(train_X.values, label=train_Y.values)\n",
    "        cvresult = xgboost.cv(xgb_param, xgtrain, num_boost_round=alg.get_params()['n_estimators'], nfold=cv_folds,\n",
    "            metrics='auc', early_stopping_rounds=early_stopping_rounds, verbose_eval=False)\n",
    "        alg.set_params(n_estimators=cvresult.shape[0])\n",
    "    \n",
    "    #Fit the algorithm on the data\n",
    "    alg.fit(train_X, train_Y, eval_metric='auc')\n",
    "        \n",
    "    #Predict training set:\n",
    "    dtrain_predprob = alg.predict_proba(train_X)[:,1]\n",
    "        \n",
    "    #Print model report:\n",
    "    print (\"\\nModel Report\")\n",
    "    print (\"AUC Score (Train): %f\" % roc_auc_score(train_Y, dtrain_predprob))\n",
    "    print (\"n_estimators: \", cvresult.shape[0])\n",
    "    print (\"CV result: \", cvresult)\n",
    "                    \n",
    "    feat_imp = pd.Series(alg.get_booster().get_fscore()).sort_values(ascending=False)\n",
    "    feat_imp.plot(kind='bar', title='Feature Importances')\n",
    "    plt.ylabel('Feature Importance Score')\n",
    "    if useTrainCV:\n",
    "        return cvresult.shape[0]\n",
    "    "
   ]
  },
  {
   "cell_type": "markdown",
   "metadata": {},
   "source": [
    "## Initialize high learning rate"
   ]
  },
  {
   "cell_type": "code",
   "execution_count": 33,
   "metadata": {},
   "outputs": [],
   "source": [
    "xgb_params = {\n",
    "    'learning_rate': 0.1,\n",
    "    'n_estimators': 1000,\n",
    "    'max_depth': 5,\n",
    "    'min_child_weight': 1,\n",
    "    'gamma': 0,\n",
    "    'subsample': 0.8,\n",
    "    'colsample_bytree': 0.8,\n",
    "    'n_jobs': 32,\n",
    "    'booster':'gbtree',\n",
    "    'scale_pos_weight': 1,\n",
    "    'seed': 2020,\n",
    "    'base_score':0.5, \n",
    "}"
   ]
  },
  {
   "cell_type": "code",
   "execution_count": 34,
   "metadata": {},
   "outputs": [
    {
     "name": "stdout",
     "output_type": "stream",
     "text": [
      "\n",
      "Model Report\n",
      "AUC Score (Train): 0.877871\n",
      "n_estimators:  93\n",
      "CV result:      train-auc-mean  train-auc-std  test-auc-mean  test-auc-std\n",
      "0         0.812404       0.001853       0.810653      0.004857\n",
      "1         0.852019       0.002683       0.849799      0.006818\n",
      "2         0.854930       0.000652       0.852128      0.006025\n",
      "3         0.855360       0.001436       0.852923      0.005547\n",
      "4         0.857015       0.000974       0.854350      0.005171\n",
      "..             ...            ...            ...           ...\n",
      "88        0.879869       0.001549       0.865435      0.005295\n",
      "89        0.880038       0.001550       0.865454      0.005272\n",
      "90        0.880207       0.001489       0.865442      0.005232\n",
      "91        0.880355       0.001514       0.865443      0.005221\n",
      "92        0.880460       0.001507       0.865469      0.005260\n",
      "\n",
      "[93 rows x 4 columns]\n"
     ]
    },
    {
     "data": {
      "image/png": "[encoded data removed]",
      "text/plain": [
       "<Figure size 432x288 with 1 Axes>"
      ]
     },
     "metadata": {
      "needs_background": "light"
     },
     "output_type": "display_data"
    }
   ],
   "source": [
    "xgb1 = XGBClassifier(**xgb_params)\n",
    "n_estimators = optimize_n_estimators(xgb1, trainval_X, trainval_Y)\n",
    "xgb_params['n_estimators'] = n_estimators\n",
    "xgb_params['n_jobs'] = 4"
   ]
  },
  {
   "cell_type": "code",
   "execution_count": null,
   "metadata": {},
   "outputs": [],
   "source": []
  },
  {
   "cell_type": "markdown",
   "metadata": {},
   "source": [
    "## Tune scale_pos_weight"
   ]
  },
  {
   "cell_type": "code",
   "execution_count": 38,
   "metadata": {},
   "outputs": [
    {
     "data": {
      "text/plain": [
       "0    139974\n",
       "1     10026\n",
       "Name: SeriousDlqin2yrs, dtype: int64"
      ]
     },
     "execution_count": 38,
     "metadata": {},
     "output_type": "execute_result"
    }
   ],
   "source": [
    "trainval_Y.value_counts()"
   ]
  },
  {
   "cell_type": "code",
   "execution_count": 40,
   "metadata": {},
   "outputs": [
    {
     "name": "stdout",
     "output_type": "stream",
     "text": [
      "Fitting 5 folds for each of 50 candidates, totalling 250 fits\n"
     ]
    },
    {
     "name": "stderr",
     "output_type": "stream",
     "text": [
      "[Parallel(n_jobs=8)]: Using backend LokyBackend with 8 concurrent workers.\n",
      "[Parallel(n_jobs=8)]: Done  25 tasks      | elapsed:   35.9s\n",
      "[Parallel(n_jobs=8)]: Done 146 tasks      | elapsed:  2.8min\n",
      "[Parallel(n_jobs=8)]: Done 250 out of 250 | elapsed:  4.6min finished\n",
      "/opt/anaconda3/lib/python3.7/site-packages/sklearn/model_selection/_search.py:823: FutureWarning: The parameter 'iid' is deprecated in 0.22 and will be removed in 0.24.\n",
      "  \"removed in 0.24.\", FutureWarning\n"
     ]
    },
    {
     "data": {
      "text/plain": [
       "({'scale_pos_weight': 5.770373810986824}, 0.865670886442443)"
      ]
     },
     "execution_count": 40,
     "metadata": {},
     "output_type": "execute_result"
    }
   ],
   "source": [
    "from sklearn.model_selection import GridSearchCV\n",
    "import math\n",
    "\n",
    "init_scale_pos_weight = round(trainval_Y.value_counts().loc[0] / trainval_Y.value_counts().loc[1], 2)\n",
    "\n",
    "param_test7 = {\n",
    "    'scale_pos_weight': np.linspace(1, init_scale_pos_weight + math.sqrt(init_scale_pos_weight), num=10)\n",
    "}\n",
    "gsearch7 = GridSearchCV(estimator=XGBClassifier(**xgb_params), \n",
    "                        param_grid=param_test7, scoring='roc_auc', n_jobs=8, iid=False, cv=5, verbose=2)\n",
    "gsearch7.fit(trainval_X, trainval_Y)\n",
    "gsearch7.best_params_, gsearch7.best_score_"
   ]
  },
  {
   "cell_type": "code",
   "execution_count": 43,
   "metadata": {},
   "outputs": [],
   "source": [
    "xgb_params['scale_pos_weight'] = gsearch7.best_params_['scale_pos_weight']"
   ]
  },
  {
   "cell_type": "markdown",
   "metadata": {},
   "source": [
    "## Tune max_depth & min_child_weight"
   ]
  },
  {
   "cell_type": "code",
   "execution_count": 44,
   "metadata": {},
   "outputs": [
    {
     "name": "stdout",
     "output_type": "stream",
     "text": [
      "Fitting 5 folds for each of 12 candidates, totalling 60 fits\n"
     ]
    },
    {
     "name": "stderr",
     "output_type": "stream",
     "text": [
      "[Parallel(n_jobs=8)]: Using backend LokyBackend with 8 concurrent workers.\n",
      "[Parallel(n_jobs=8)]: Done  25 tasks      | elapsed:   28.6s\n",
      "[Parallel(n_jobs=8)]: Done  60 out of  60 | elapsed:  1.3min finished\n",
      "/opt/anaconda3/lib/python3.7/site-packages/sklearn/model_selection/_search.py:823: FutureWarning: The parameter 'iid' is deprecated in 0.22 and will be removed in 0.24.\n",
      "  \"removed in 0.24.\", FutureWarning\n"
     ]
    },
    {
     "data": {
      "text/plain": [
       "({'max_depth': 5, 'min_child_weight': 1}, 0.865670886442443)"
      ]
     },
     "execution_count": 44,
     "metadata": {},
     "output_type": "execute_result"
    }
   ],
   "source": [
    "from sklearn.model_selection import GridSearchCV\n",
    "\n",
    "param_test1 = {\n",
    "     'max_depth': range(3,10,2),\n",
    "     'min_child_weight': range(1,6,2)\n",
    "}\n",
    "gsearch1 = GridSearchCV(estimator=XGBClassifier(**xgb_params), \n",
    "                        param_grid=param_test1, scoring='roc_auc', n_jobs=8, iid=False, cv=5, verbose=2)\n",
    "gsearch1.fit(trainval_X, trainval_Y)\n",
    "gsearch1.best_params_, gsearch1.best_score_"
   ]
  },
  {
   "cell_type": "code",
   "execution_count": 46,
   "metadata": {},
   "outputs": [],
   "source": [
    "xgb_params['max_depth'] = gsearch2.best_params_['max_depth']\n",
    "xgb_params['min_child_weight'] = gsearch2.best_params_['min_child_weight']"
   ]
  },
  {
   "cell_type": "markdown",
   "metadata": {},
   "source": [
    "## Tune gamma"
   ]
  },
  {
   "cell_type": "code",
   "execution_count": 47,
   "metadata": {},
   "outputs": [
    {
     "name": "stdout",
     "output_type": "stream",
     "text": [
      "Fitting 5 folds for each of 5 candidates, totalling 25 fits\n"
     ]
    },
    {
     "name": "stderr",
     "output_type": "stream",
     "text": [
      "[Parallel(n_jobs=8)]: Using backend LokyBackend with 8 concurrent workers.\n",
      "[Parallel(n_jobs=8)]: Done  23 out of  25 | elapsed:   26.8s remaining:    2.3s\n",
      "[Parallel(n_jobs=8)]: Done  25 out of  25 | elapsed:   29.2s finished\n",
      "/opt/anaconda3/lib/python3.7/site-packages/sklearn/model_selection/_search.py:823: FutureWarning: The parameter 'iid' is deprecated in 0.22 and will be removed in 0.24.\n",
      "  \"removed in 0.24.\", FutureWarning\n"
     ]
    },
    {
     "data": {
      "text/plain": [
       "({'gamma': 0.4}, 0.8657654343660687)"
      ]
     },
     "execution_count": 47,
     "metadata": {},
     "output_type": "execute_result"
    }
   ],
   "source": [
    "from sklearn.model_selection import GridSearchCV\n",
    "\n",
    "param_test3 = {\n",
    "    'gamma': [i/10.0 for i in range(0,5)]\n",
    "}\n",
    "gsearch3 = GridSearchCV(\n",
    "    estimator=XGBClassifier(**xgb_params), param_grid=param_test3, \n",
    "    scoring='roc_auc', n_jobs=8, iid=False, cv=5, verbose=2)\n",
    "gsearch3.fit(trainval_X, trainval_Y)\n",
    "gsearch3.best_params_, gsearch3.best_score_"
   ]
  },
  {
   "cell_type": "code",
   "execution_count": 48,
   "metadata": {},
   "outputs": [],
   "source": [
    "xgb_params['gamma'] = gsearch3.best_params_['gamma']"
   ]
  },
  {
   "cell_type": "markdown",
   "metadata": {},
   "source": [
    "## Optimize n_estimators for tuned parameters"
   ]
  },
  {
   "cell_type": "code",
   "execution_count": 49,
   "metadata": {},
   "outputs": [
    {
     "name": "stdout",
     "output_type": "stream",
     "text": [
      "\n",
      "Model Report\n",
      "AUC Score (Train): 0.881151\n",
      "n_estimators:  89\n",
      "CV result:      train-auc-mean  train-auc-std  test-auc-mean  test-auc-std\n",
      "0         0.815509       0.002488       0.811875      0.005944\n",
      "1         0.852253       0.002327       0.848702      0.007733\n",
      "2         0.856059       0.000900       0.852922      0.006701\n",
      "3         0.857022       0.000706       0.853915      0.006183\n",
      "4         0.858144       0.000745       0.855098      0.005993\n",
      "..             ...            ...            ...           ...\n",
      "84        0.883381       0.001414       0.865743      0.005394\n",
      "85        0.883546       0.001478       0.865767      0.005378\n",
      "86        0.883715       0.001488       0.865780      0.005385\n",
      "87        0.883837       0.001486       0.865801      0.005437\n",
      "88        0.883997       0.001497       0.865809      0.005388\n",
      "\n",
      "[89 rows x 4 columns]\n"
     ]
    },
    {
     "data": {
      "image/png": "[encoded data removed]",
      "text/plain": [
       "<Figure size 432x288 with 1 Axes>"
      ]
     },
     "metadata": {
      "needs_background": "light"
     },
     "output_type": "display_data"
    }
   ],
   "source": [
    "xgb_params['n_estimators'] = 1000\n",
    "xgb1 = XGBClassifier(**xgb_params)\n",
    "n_estimators = optimize_n_estimators(xgb1, trainval_X, trainval_Y)\n",
    "xgb_params['n_estimators'] = n_estimators"
   ]
  },
  {
   "cell_type": "markdown",
   "metadata": {},
   "source": [
    "## Tune subsample & colsample_bytree"
   ]
  },
  {
   "cell_type": "code",
   "execution_count": 50,
   "metadata": {},
   "outputs": [
    {
     "name": "stdout",
     "output_type": "stream",
     "text": [
      "Fitting 5 folds for each of 16 candidates, totalling 80 fits\n"
     ]
    },
    {
     "name": "stderr",
     "output_type": "stream",
     "text": [
      "[Parallel(n_jobs=8)]: Using backend LokyBackend with 8 concurrent workers.\n",
      "[Parallel(n_jobs=8)]: Done  25 tasks      | elapsed:   30.8s\n",
      "[Parallel(n_jobs=8)]: Done  80 out of  80 | elapsed:  1.4min finished\n",
      "/opt/anaconda3/lib/python3.7/site-packages/sklearn/model_selection/_search.py:823: FutureWarning: The parameter 'iid' is deprecated in 0.22 and will be removed in 0.24.\n",
      "  \"removed in 0.24.\", FutureWarning\n"
     ]
    },
    {
     "data": {
      "text/plain": [
       "({'colsample_bytree': 0.8, 'subsample': 0.8}, 0.8657732796933472)"
      ]
     },
     "execution_count": 50,
     "metadata": {},
     "output_type": "execute_result"
    }
   ],
   "source": [
    "from sklearn.model_selection import GridSearchCV\n",
    "\n",
    "param_test4 = {\n",
    "     'subsample': [i/10.0 for i in range(6,10)],\n",
    "     'colsample_bytree': [i/10.0 for i in range(6,10)]\n",
    "}\n",
    "gsearch4 = GridSearchCV(\n",
    "    estimator=XGBClassifier(**xgb_params), param_grid=param_test4, \n",
    "    scoring='roc_auc', n_jobs=8, iid=False, cv=5, verbose=2)\n",
    "gsearch4.fit(trainval_X, trainval_Y)\n",
    "gsearch4.best_params_, gsearch4.best_score_"
   ]
  },
  {
   "cell_type": "code",
   "execution_count": 51,
   "metadata": {},
   "outputs": [
    {
     "name": "stdout",
     "output_type": "stream",
     "text": [
      "Fitting 5 folds for each of 25 candidates, totalling 125 fits\n"
     ]
    },
    {
     "name": "stderr",
     "output_type": "stream",
     "text": [
      "[Parallel(n_jobs=8)]: Using backend LokyBackend with 8 concurrent workers.\n",
      "[Parallel(n_jobs=8)]: Done  25 tasks      | elapsed:   31.4s\n",
      "[Parallel(n_jobs=8)]: Done 125 out of 125 | elapsed:  2.2min finished\n",
      "/opt/anaconda3/lib/python3.7/site-packages/sklearn/model_selection/_search.py:823: FutureWarning: The parameter 'iid' is deprecated in 0.22 and will be removed in 0.24.\n",
      "  \"removed in 0.24.\", FutureWarning\n"
     ]
    },
    {
     "data": {
      "text/plain": [
       "({'colsample_bytree': 0.8, 'subsample': 0.75}, 0.8658445325829103)"
      ]
     },
     "execution_count": 51,
     "metadata": {},
     "output_type": "execute_result"
    }
   ],
   "source": [
    "from sklearn.model_selection import GridSearchCV\n",
    "\n",
    "param_test5 = {\n",
    " 'subsample': [i/100.0 for i in range(int(gsearch4.best_params_['subsample'] * 100 - 10), \n",
    "                                      int(gsearch4.best_params_['subsample'] * 100 + 15), \n",
    "                                      5)],\n",
    " 'colsample_bytree': [i/100.0 for i in range(int(gsearch4.best_params_['colsample_bytree'] * 100 - 10), \n",
    "                                             int(gsearch4.best_params_['colsample_bytree'] * 100 + 15), \n",
    "                                             5)],\n",
    "}\n",
    "gsearch5 = GridSearchCV(\n",
    "    estimator=XGBClassifier(**xgb_params), param_grid=param_test5, \n",
    "    scoring='roc_auc', n_jobs=8, iid=False, cv=5, verbose=2)\n",
    "gsearch5.fit(trainval_X, trainval_Y)\n",
    "gsearch5.best_params_, gsearch5.best_score_"
   ]
  },
  {
   "cell_type": "code",
   "execution_count": 52,
   "metadata": {},
   "outputs": [],
   "source": [
    "xgb_params['subsample'] = gsearch5.best_params_['subsample']\n",
    "xgb_params['colsample_bytree'] = gsearch5.best_params_['colsample_bytree']"
   ]
  },
  {
   "cell_type": "markdown",
   "metadata": {},
   "source": [
    "## Tune reg_alpha"
   ]
  },
  {
   "cell_type": "code",
   "execution_count": 53,
   "metadata": {},
   "outputs": [
    {
     "name": "stdout",
     "output_type": "stream",
     "text": [
      "Fitting 5 folds for each of 5 candidates, totalling 25 fits\n"
     ]
    },
    {
     "name": "stderr",
     "output_type": "stream",
     "text": [
      "[Parallel(n_jobs=8)]: Using backend LokyBackend with 8 concurrent workers.\n",
      "[Parallel(n_jobs=8)]: Done  23 out of  25 | elapsed:   25.9s remaining:    2.3s\n",
      "[Parallel(n_jobs=8)]: Done  25 out of  25 | elapsed:   28.3s finished\n",
      "/opt/anaconda3/lib/python3.7/site-packages/sklearn/model_selection/_search.py:823: FutureWarning: The parameter 'iid' is deprecated in 0.22 and will be removed in 0.24.\n",
      "  \"removed in 0.24.\", FutureWarning\n"
     ]
    },
    {
     "data": {
      "text/plain": [
       "({'reg_alpha': 1e-05}, 0.8658445343653141)"
      ]
     },
     "execution_count": 53,
     "metadata": {},
     "output_type": "execute_result"
    }
   ],
   "source": [
    "from sklearn.model_selection import GridSearchCV\n",
    "\n",
    "param_test6 = {\n",
    " 'reg_alpha': [1e-5, 1e-2, 0.1, 1, 100]\n",
    "}\n",
    "gsearch6 = GridSearchCV(\n",
    "    estimator=XGBClassifier(**xgb_params), param_grid=param_test6, \n",
    "    scoring='roc_auc', n_jobs=8, iid=False, cv=5, verbose=2)\n",
    "gsearch6.fit(trainval_X, trainval_Y)\n",
    "gsearch6.best_params_, gsearch6.best_score_"
   ]
  },
  {
   "cell_type": "code",
   "execution_count": 54,
   "metadata": {},
   "outputs": [],
   "source": [
    "xgb_params['reg_alpha'] = gsearch6.best_params_['reg_alpha']"
   ]
  },
  {
   "cell_type": "markdown",
   "metadata": {},
   "source": [
    "## Optimize n_estimators for final parameters with lowered learning rate"
   ]
  },
  {
   "cell_type": "code",
   "execution_count": 55,
   "metadata": {},
   "outputs": [
    {
     "name": "stdout",
     "output_type": "stream",
     "text": [
      "\n",
      "Model Report\n",
      "AUC Score (Train): 0.880874\n",
      "n_estimators:  167\n",
      "CV result:       train-auc-mean  train-auc-std  test-auc-mean  test-auc-std\n",
      "0          0.815445       0.002319       0.811870      0.006328\n",
      "1          0.852198       0.002235       0.848773      0.007758\n",
      "2          0.855550       0.001456       0.852527      0.006174\n",
      "3          0.856499       0.001358       0.853423      0.005977\n",
      "4          0.857587       0.001236       0.854280      0.005633\n",
      "..              ...            ...            ...           ...\n",
      "162        0.883064       0.001466       0.865978      0.005603\n",
      "163        0.883153       0.001472       0.865986      0.005595\n",
      "164        0.883262       0.001463       0.866003      0.005596\n",
      "165        0.883368       0.001464       0.866006      0.005591\n",
      "166        0.883474       0.001469       0.866012      0.005574\n",
      "\n",
      "[167 rows x 4 columns]\n"
     ]
    },
    {
     "data": {
      "image/png": "[encoded data removed]",
      "text/plain": [
       "<Figure size 432x288 with 1 Axes>"
      ]
     },
     "metadata": {
      "needs_background": "light"
     },
     "output_type": "display_data"
    }
   ],
   "source": [
    "xgb_params['n_estimators'] = 1000\n",
    "xgb_params['learning_rate'] = 0.05\n",
    "xgb_params['n_jobs'] = 16\n",
    "\n",
    "xgb1 = XGBClassifier(**xgb_params)\n",
    "n_estimators = optimize_n_estimators(xgb1, trainval_X, trainval_Y)\n",
    "xgb_params['n_estimators'] = n_estimators"
   ]
  },
  {
   "cell_type": "markdown",
   "metadata": {},
   "source": [
    "## Show best_parameters"
   ]
  },
  {
   "cell_type": "code",
   "execution_count": 56,
   "metadata": {},
   "outputs": [
    {
     "data": {
      "text/plain": [
       "{'learning_rate': 0.05,\n",
       " 'n_estimators': 167,\n",
       " 'max_depth': 5,\n",
       " 'min_child_weight': 1,\n",
       " 'gamma': 0.4,\n",
       " 'subsample': 0.75,\n",
       " 'colsample_bytree': 0.8,\n",
       " 'n_jobs': 16,\n",
       " 'booster': 'gbtree',\n",
       " 'scale_pos_weight': 5.770373810986824,\n",
       " 'seed': 2020,\n",
       " 'base_score': 0.5,\n",
       " 'reg_alpha': 1e-05}"
      ]
     },
     "execution_count": 56,
     "metadata": {},
     "output_type": "execute_result"
    }
   ],
   "source": [
    "best_param_dict = xgb_params\n",
    "best_param_dict"
   ]
  },
  {
   "cell_type": "markdown",
   "metadata": {},
   "source": [
    "## Evaluate best model"
   ]
  },
  {
   "cell_type": "code",
   "execution_count": 58,
   "metadata": {},
   "outputs": [
    {
     "name": "stdout",
     "output_type": "stream",
     "text": [
      "AUC Mean: 0.8658982407946425, AUC Std: 0.004878409658261204\n"
     ]
    }
   ],
   "source": [
    "from sklearn.model_selection import StratifiedKFold\n",
    "from sklearn.metrics import roc_auc_score\n",
    "\n",
    "X, y = train_df[features], train_df[label_col]\n",
    "\n",
    "k = 5\n",
    "auc_scores = np.zeros((k,))\n",
    "for i, (train_idx, val_idx) in enumerate(StratifiedKFold(n_splits=k, random_state=999, shuffle=True).split(X, y)):\n",
    "    X_train_subset, y_train_subset = X.iloc[train_idx].values, y.iloc[train_idx].values\n",
    "    X_val_subset, y_val_subset = X.iloc[val_idx].values, y.iloc[val_idx].values\n",
    "\n",
    "    clf = XGBClassifier(**best_param_dict)\n",
    "    clf.fit(X_train_subset, y_train_subset)\n",
    "    y_hat = clf.predict_proba(X_val_subset)[:, 1]\n",
    "\n",
    "    # Evaluate AUC score\n",
    "    score = roc_auc_score(y_val_subset, y_hat)\n",
    "    auc_scores[i] = score\n",
    "\n",
    "print(f'AUC Mean: {auc_scores.mean()}, AUC Std: {auc_scores.std()}')"
   ]
  },
  {
   "cell_type": "markdown",
   "metadata": {},
   "source": [
    "# Train best model"
   ]
  },
  {
   "cell_type": "code",
   "execution_count": 63,
   "metadata": {},
   "outputs": [
    {
     "data": {
      "text/plain": [
       "XGBClassifier(base_score=0.5, booster='gbtree', colsample_bylevel=1,\n",
       "              colsample_bynode=1, colsample_bytree=0.8, gamma=0.4,\n",
       "              learning_rate=0.05, max_delta_step=0, max_depth=5,\n",
       "              min_child_weight=1, missing=None, n_estimators=167, n_jobs=16,\n",
       "              nthread=None, objective='binary:logistic', random_state=0,\n",
       "              reg_alpha=1e-05, reg_lambda=1, scale_pos_weight=5.770373810986824,\n",
       "              seed=2020, silent=None, subsample=0.75, verbosity=1)"
      ]
     },
     "execution_count": 63,
     "metadata": {},
     "output_type": "execute_result"
    }
   ],
   "source": [
    "best_model = XGBClassifier(**best_param_dict)\n",
    "best_model.fit(trainval_X, trainval_Y)"
   ]
  },
  {
   "source": [
    "# Explain best model"
   ],
   "cell_type": "markdown",
   "metadata": {}
  },
  {
   "cell_type": "code",
   "execution_count": null,
   "metadata": {},
   "outputs": [],
   "source": [
    "import shap\n",
    "explainer = shap.TreeExplainer(best_model)\n",
    "shap_values = explainer.shap_values(train_df[features])\n",
    "shap.summary_plot(shap_values, train_df[features], max_display = min(15, len(features)), color='green')\n",
    "shap.summary_plot(shap_values, train_df[features], plot_type=\"bar\", max_display = min(15, len(features)), color='green')"
   ]
  },
  {
   "cell_type": "markdown",
   "metadata": {},
   "source": [
    "# Generate predictions"
   ]
  },
  {
   "cell_type": "code",
   "execution_count": 65,
   "metadata": {},
   "outputs": [
    {
     "data": {
      "text/html": [
       "<div>\n",
       "<style scoped>\n",
       "    .dataframe tbody tr th:only-of-type {\n",
       "        vertical-align: middle;\n",
       "    }\n",
       "\n",
       "    .dataframe tbody tr th {\n",
       "        vertical-align: top;\n",
       "    }\n",
       "\n",
       "    .dataframe thead th {\n",
       "        text-align: right;\n",
       "    }\n",
       "</style>\n",
       "<table border=\"1\" class=\"dataframe\">\n",
       "  <thead>\n",
       "    <tr style=\"text-align: right;\">\n",
       "      <th></th>\n",
       "      <th>SeriousDlqin2yrs</th>\n",
       "      <th>RevolvingUtilizationOfUnsecuredLines</th>\n",
       "      <th>age</th>\n",
       "      <th>NumberOfTime30-59DaysPastDueNotWorse</th>\n",
       "      <th>DebtRatio</th>\n",
       "      <th>MonthlyIncome</th>\n",
       "      <th>NumberOfOpenCreditLinesAndLoans</th>\n",
       "      <th>NumberOfTimes90DaysLate</th>\n",
       "      <th>NumberRealEstateLoansOrLines</th>\n",
       "      <th>NumberOfTime60-89DaysPastDueNotWorse</th>\n",
       "      <th>NumberOfDependents</th>\n",
       "    </tr>\n",
       "  </thead>\n",
       "  <tbody>\n",
       "    <tr>\n",
       "      <th>0</th>\n",
       "      <td>NaN</td>\n",
       "      <td>0.885519</td>\n",
       "      <td>43</td>\n",
       "      <td>0</td>\n",
       "      <td>0.177513</td>\n",
       "      <td>5700.0</td>\n",
       "      <td>4</td>\n",
       "      <td>0</td>\n",
       "      <td>0</td>\n",
       "      <td>0</td>\n",
       "      <td>0.0</td>\n",
       "    </tr>\n",
       "    <tr>\n",
       "      <th>1</th>\n",
       "      <td>NaN</td>\n",
       "      <td>0.463295</td>\n",
       "      <td>57</td>\n",
       "      <td>0</td>\n",
       "      <td>0.527237</td>\n",
       "      <td>9141.0</td>\n",
       "      <td>15</td>\n",
       "      <td>0</td>\n",
       "      <td>4</td>\n",
       "      <td>0</td>\n",
       "      <td>2.0</td>\n",
       "    </tr>\n",
       "    <tr>\n",
       "      <th>2</th>\n",
       "      <td>NaN</td>\n",
       "      <td>0.043275</td>\n",
       "      <td>59</td>\n",
       "      <td>0</td>\n",
       "      <td>0.687648</td>\n",
       "      <td>5083.0</td>\n",
       "      <td>12</td>\n",
       "      <td>0</td>\n",
       "      <td>1</td>\n",
       "      <td>0</td>\n",
       "      <td>2.0</td>\n",
       "    </tr>\n",
       "    <tr>\n",
       "      <th>3</th>\n",
       "      <td>NaN</td>\n",
       "      <td>0.280308</td>\n",
       "      <td>38</td>\n",
       "      <td>1</td>\n",
       "      <td>0.925961</td>\n",
       "      <td>3200.0</td>\n",
       "      <td>7</td>\n",
       "      <td>0</td>\n",
       "      <td>2</td>\n",
       "      <td>0</td>\n",
       "      <td>0.0</td>\n",
       "    </tr>\n",
       "    <tr>\n",
       "      <th>4</th>\n",
       "      <td>NaN</td>\n",
       "      <td>1.000000</td>\n",
       "      <td>27</td>\n",
       "      <td>0</td>\n",
       "      <td>0.019917</td>\n",
       "      <td>3865.0</td>\n",
       "      <td>4</td>\n",
       "      <td>0</td>\n",
       "      <td>0</td>\n",
       "      <td>0</td>\n",
       "      <td>1.0</td>\n",
       "    </tr>\n",
       "    <tr>\n",
       "      <th>...</th>\n",
       "      <td>...</td>\n",
       "      <td>...</td>\n",
       "      <td>...</td>\n",
       "      <td>...</td>\n",
       "      <td>...</td>\n",
       "      <td>...</td>\n",
       "      <td>...</td>\n",
       "      <td>...</td>\n",
       "      <td>...</td>\n",
       "      <td>...</td>\n",
       "      <td>...</td>\n",
       "    </tr>\n",
       "    <tr>\n",
       "      <th>101498</th>\n",
       "      <td>NaN</td>\n",
       "      <td>0.282653</td>\n",
       "      <td>24</td>\n",
       "      <td>0</td>\n",
       "      <td>0.068522</td>\n",
       "      <td>1400.0</td>\n",
       "      <td>5</td>\n",
       "      <td>0</td>\n",
       "      <td>0</td>\n",
       "      <td>0</td>\n",
       "      <td>0.0</td>\n",
       "    </tr>\n",
       "    <tr>\n",
       "      <th>101499</th>\n",
       "      <td>NaN</td>\n",
       "      <td>0.922156</td>\n",
       "      <td>36</td>\n",
       "      <td>3</td>\n",
       "      <td>0.934217</td>\n",
       "      <td>7615.0</td>\n",
       "      <td>8</td>\n",
       "      <td>0</td>\n",
       "      <td>2</td>\n",
       "      <td>0</td>\n",
       "      <td>4.0</td>\n",
       "    </tr>\n",
       "    <tr>\n",
       "      <th>101500</th>\n",
       "      <td>NaN</td>\n",
       "      <td>0.081596</td>\n",
       "      <td>70</td>\n",
       "      <td>0</td>\n",
       "      <td>836.000000</td>\n",
       "      <td>NaN</td>\n",
       "      <td>3</td>\n",
       "      <td>0</td>\n",
       "      <td>0</td>\n",
       "      <td>0</td>\n",
       "      <td>NaN</td>\n",
       "    </tr>\n",
       "    <tr>\n",
       "      <th>101501</th>\n",
       "      <td>NaN</td>\n",
       "      <td>0.335457</td>\n",
       "      <td>56</td>\n",
       "      <td>0</td>\n",
       "      <td>3568.000000</td>\n",
       "      <td>NaN</td>\n",
       "      <td>8</td>\n",
       "      <td>0</td>\n",
       "      <td>2</td>\n",
       "      <td>1</td>\n",
       "      <td>3.0</td>\n",
       "    </tr>\n",
       "    <tr>\n",
       "      <th>101502</th>\n",
       "      <td>NaN</td>\n",
       "      <td>0.441842</td>\n",
       "      <td>29</td>\n",
       "      <td>0</td>\n",
       "      <td>0.198918</td>\n",
       "      <td>5916.0</td>\n",
       "      <td>12</td>\n",
       "      <td>0</td>\n",
       "      <td>0</td>\n",
       "      <td>0</td>\n",
       "      <td>0.0</td>\n",
       "    </tr>\n",
       "  </tbody>\n",
       "</table>\n",
       "<p>101503 rows × 11 columns</p>\n",
       "</div>"
      ],
      "text/plain": [
       "        SeriousDlqin2yrs  RevolvingUtilizationOfUnsecuredLines  age  \\\n",
       "0                    NaN                              0.885519   43   \n",
       "1                    NaN                              0.463295   57   \n",
       "2                    NaN                              0.043275   59   \n",
       "3                    NaN                              0.280308   38   \n",
       "4                    NaN                              1.000000   27   \n",
       "...                  ...                                   ...  ...   \n",
       "101498               NaN                              0.282653   24   \n",
       "101499               NaN                              0.922156   36   \n",
       "101500               NaN                              0.081596   70   \n",
       "101501               NaN                              0.335457   56   \n",
       "101502               NaN                              0.441842   29   \n",
       "\n",
       "        NumberOfTime30-59DaysPastDueNotWorse    DebtRatio  MonthlyIncome  \\\n",
       "0                                          0     0.177513         5700.0   \n",
       "1                                          0     0.527237         9141.0   \n",
       "2                                          0     0.687648         5083.0   \n",
       "3                                          1     0.925961         3200.0   \n",
       "4                                          0     0.019917         3865.0   \n",
       "...                                      ...          ...            ...   \n",
       "101498                                     0     0.068522         1400.0   \n",
       "101499                                     3     0.934217         7615.0   \n",
       "101500                                     0   836.000000            NaN   \n",
       "101501                                     0  3568.000000            NaN   \n",
       "101502                                     0     0.198918         5916.0   \n",
       "\n",
       "        NumberOfOpenCreditLinesAndLoans  NumberOfTimes90DaysLate  \\\n",
       "0                                     4                        0   \n",
       "1                                    15                        0   \n",
       "2                                    12                        0   \n",
       "3                                     7                        0   \n",
       "4                                     4                        0   \n",
       "...                                 ...                      ...   \n",
       "101498                                5                        0   \n",
       "101499                                8                        0   \n",
       "101500                                3                        0   \n",
       "101501                                8                        0   \n",
       "101502                               12                        0   \n",
       "\n",
       "        NumberRealEstateLoansOrLines  NumberOfTime60-89DaysPastDueNotWorse  \\\n",
       "0                                  0                                     0   \n",
       "1                                  4                                     0   \n",
       "2                                  1                                     0   \n",
       "3                                  2                                     0   \n",
       "4                                  0                                     0   \n",
       "...                              ...                                   ...   \n",
       "101498                             0                                     0   \n",
       "101499                             2                                     0   \n",
       "101500                             0                                     0   \n",
       "101501                             2                                     1   \n",
       "101502                             0                                     0   \n",
       "\n",
       "        NumberOfDependents  \n",
       "0                      0.0  \n",
       "1                      2.0  \n",
       "2                      2.0  \n",
       "3                      0.0  \n",
       "4                      1.0  \n",
       "...                    ...  \n",
       "101498                 0.0  \n",
       "101499                 4.0  \n",
       "101500                 NaN  \n",
       "101501                 3.0  \n",
       "101502                 0.0  \n",
       "\n",
       "[101503 rows x 11 columns]"
      ]
     },
     "execution_count": 65,
     "metadata": {},
     "output_type": "execute_result"
    }
   ],
   "source": []
  },
  {
   "cell_type": "code",
   "execution_count": 85,
   "metadata": {},
   "outputs": [],
   "source": [
    "test_df = test_df.fillna(test_df.mean())"
   ]
  },
  {
   "cell_type": "code",
   "execution_count": 86,
   "metadata": {},
   "outputs": [],
   "source": [
    "test_df['Probability'] = best_model.predict_proba(test_df.fillna(test_df.mean())[features])[:,1]"
   ]
  },
  {
   "cell_type": "code",
   "execution_count": 87,
   "metadata": {},
   "outputs": [
    {
     "data": {
      "text/html": [
       "<div>\n",
       "<style scoped>\n",
       "    .dataframe tbody tr th:only-of-type {\n",
       "        vertical-align: middle;\n",
       "    }\n",
       "\n",
       "    .dataframe tbody tr th {\n",
       "        vertical-align: top;\n",
       "    }\n",
       "\n",
       "    .dataframe thead th {\n",
       "        text-align: right;\n",
       "    }\n",
       "</style>\n",
       "<table border=\"1\" class=\"dataframe\">\n",
       "  <thead>\n",
       "    <tr style=\"text-align: right;\">\n",
       "      <th></th>\n",
       "      <th>Unnamed: 0</th>\n",
       "      <th>SeriousDlqin2yrs</th>\n",
       "      <th>RevolvingUtilizationOfUnsecuredLines</th>\n",
       "      <th>age</th>\n",
       "      <th>NumberOfTime30-59DaysPastDueNotWorse</th>\n",
       "      <th>DebtRatio</th>\n",
       "      <th>MonthlyIncome</th>\n",
       "      <th>NumberOfOpenCreditLinesAndLoans</th>\n",
       "      <th>NumberOfTimes90DaysLate</th>\n",
       "      <th>NumberRealEstateLoansOrLines</th>\n",
       "      <th>NumberOfTime60-89DaysPastDueNotWorse</th>\n",
       "      <th>NumberOfDependents</th>\n",
       "      <th>Probability</th>\n",
       "    </tr>\n",
       "  </thead>\n",
       "  <tbody>\n",
       "    <tr>\n",
       "      <th>0</th>\n",
       "      <td>1</td>\n",
       "      <td>NaN</td>\n",
       "      <td>0.885519</td>\n",
       "      <td>43</td>\n",
       "      <td>0</td>\n",
       "      <td>0.177513</td>\n",
       "      <td>5700.00000</td>\n",
       "      <td>4</td>\n",
       "      <td>0</td>\n",
       "      <td>0</td>\n",
       "      <td>0</td>\n",
       "      <td>0.000000</td>\n",
       "      <td>0.289201</td>\n",
       "    </tr>\n",
       "    <tr>\n",
       "      <th>1</th>\n",
       "      <td>2</td>\n",
       "      <td>NaN</td>\n",
       "      <td>0.463295</td>\n",
       "      <td>57</td>\n",
       "      <td>0</td>\n",
       "      <td>0.527237</td>\n",
       "      <td>9141.00000</td>\n",
       "      <td>15</td>\n",
       "      <td>0</td>\n",
       "      <td>4</td>\n",
       "      <td>0</td>\n",
       "      <td>2.000000</td>\n",
       "      <td>0.210143</td>\n",
       "    </tr>\n",
       "    <tr>\n",
       "      <th>2</th>\n",
       "      <td>3</td>\n",
       "      <td>NaN</td>\n",
       "      <td>0.043275</td>\n",
       "      <td>59</td>\n",
       "      <td>0</td>\n",
       "      <td>0.687648</td>\n",
       "      <td>5083.00000</td>\n",
       "      <td>12</td>\n",
       "      <td>0</td>\n",
       "      <td>1</td>\n",
       "      <td>0</td>\n",
       "      <td>2.000000</td>\n",
       "      <td>0.067803</td>\n",
       "    </tr>\n",
       "    <tr>\n",
       "      <th>3</th>\n",
       "      <td>4</td>\n",
       "      <td>NaN</td>\n",
       "      <td>0.280308</td>\n",
       "      <td>38</td>\n",
       "      <td>1</td>\n",
       "      <td>0.925961</td>\n",
       "      <td>3200.00000</td>\n",
       "      <td>7</td>\n",
       "      <td>0</td>\n",
       "      <td>2</td>\n",
       "      <td>0</td>\n",
       "      <td>0.000000</td>\n",
       "      <td>0.311210</td>\n",
       "    </tr>\n",
       "    <tr>\n",
       "      <th>4</th>\n",
       "      <td>5</td>\n",
       "      <td>NaN</td>\n",
       "      <td>1.000000</td>\n",
       "      <td>27</td>\n",
       "      <td>0</td>\n",
       "      <td>0.019917</td>\n",
       "      <td>3865.00000</td>\n",
       "      <td>4</td>\n",
       "      <td>0</td>\n",
       "      <td>0</td>\n",
       "      <td>0</td>\n",
       "      <td>1.000000</td>\n",
       "      <td>0.415595</td>\n",
       "    </tr>\n",
       "    <tr>\n",
       "      <th>...</th>\n",
       "      <td>...</td>\n",
       "      <td>...</td>\n",
       "      <td>...</td>\n",
       "      <td>...</td>\n",
       "      <td>...</td>\n",
       "      <td>...</td>\n",
       "      <td>...</td>\n",
       "      <td>...</td>\n",
       "      <td>...</td>\n",
       "      <td>...</td>\n",
       "      <td>...</td>\n",
       "      <td>...</td>\n",
       "      <td>...</td>\n",
       "    </tr>\n",
       "    <tr>\n",
       "      <th>101498</th>\n",
       "      <td>101499</td>\n",
       "      <td>NaN</td>\n",
       "      <td>0.282653</td>\n",
       "      <td>24</td>\n",
       "      <td>0</td>\n",
       "      <td>0.068522</td>\n",
       "      <td>1400.00000</td>\n",
       "      <td>5</td>\n",
       "      <td>0</td>\n",
       "      <td>0</td>\n",
       "      <td>0</td>\n",
       "      <td>0.000000</td>\n",
       "      <td>0.157863</td>\n",
       "    </tr>\n",
       "    <tr>\n",
       "      <th>101499</th>\n",
       "      <td>101500</td>\n",
       "      <td>NaN</td>\n",
       "      <td>0.922156</td>\n",
       "      <td>36</td>\n",
       "      <td>3</td>\n",
       "      <td>0.934217</td>\n",
       "      <td>7615.00000</td>\n",
       "      <td>8</td>\n",
       "      <td>0</td>\n",
       "      <td>2</td>\n",
       "      <td>0</td>\n",
       "      <td>4.000000</td>\n",
       "      <td>0.747479</td>\n",
       "    </tr>\n",
       "    <tr>\n",
       "      <th>101500</th>\n",
       "      <td>101501</td>\n",
       "      <td>NaN</td>\n",
       "      <td>0.081596</td>\n",
       "      <td>70</td>\n",
       "      <td>0</td>\n",
       "      <td>836.000000</td>\n",
       "      <td>6855.03559</td>\n",
       "      <td>3</td>\n",
       "      <td>0</td>\n",
       "      <td>0</td>\n",
       "      <td>0</td>\n",
       "      <td>0.769046</td>\n",
       "      <td>0.025231</td>\n",
       "    </tr>\n",
       "    <tr>\n",
       "      <th>101501</th>\n",
       "      <td>101502</td>\n",
       "      <td>NaN</td>\n",
       "      <td>0.335457</td>\n",
       "      <td>56</td>\n",
       "      <td>0</td>\n",
       "      <td>3568.000000</td>\n",
       "      <td>6855.03559</td>\n",
       "      <td>8</td>\n",
       "      <td>0</td>\n",
       "      <td>2</td>\n",
       "      <td>1</td>\n",
       "      <td>3.000000</td>\n",
       "      <td>0.285137</td>\n",
       "    </tr>\n",
       "    <tr>\n",
       "      <th>101502</th>\n",
       "      <td>101503</td>\n",
       "      <td>NaN</td>\n",
       "      <td>0.441842</td>\n",
       "      <td>29</td>\n",
       "      <td>0</td>\n",
       "      <td>0.198918</td>\n",
       "      <td>5916.00000</td>\n",
       "      <td>12</td>\n",
       "      <td>0</td>\n",
       "      <td>0</td>\n",
       "      <td>0</td>\n",
       "      <td>0.000000</td>\n",
       "      <td>0.207762</td>\n",
       "    </tr>\n",
       "  </tbody>\n",
       "</table>\n",
       "<p>101503 rows × 13 columns</p>\n",
       "</div>"
      ],
      "text/plain": [
       "        Unnamed: 0  SeriousDlqin2yrs  RevolvingUtilizationOfUnsecuredLines  \\\n",
       "0                1               NaN                              0.885519   \n",
       "1                2               NaN                              0.463295   \n",
       "2                3               NaN                              0.043275   \n",
       "3                4               NaN                              0.280308   \n",
       "4                5               NaN                              1.000000   \n",
       "...            ...               ...                                   ...   \n",
       "101498      101499               NaN                              0.282653   \n",
       "101499      101500               NaN                              0.922156   \n",
       "101500      101501               NaN                              0.081596   \n",
       "101501      101502               NaN                              0.335457   \n",
       "101502      101503               NaN                              0.441842   \n",
       "\n",
       "        age  NumberOfTime30-59DaysPastDueNotWorse    DebtRatio  MonthlyIncome  \\\n",
       "0        43                                     0     0.177513     5700.00000   \n",
       "1        57                                     0     0.527237     9141.00000   \n",
       "2        59                                     0     0.687648     5083.00000   \n",
       "3        38                                     1     0.925961     3200.00000   \n",
       "4        27                                     0     0.019917     3865.00000   \n",
       "...     ...                                   ...          ...            ...   \n",
       "101498   24                                     0     0.068522     1400.00000   \n",
       "101499   36                                     3     0.934217     7615.00000   \n",
       "101500   70                                     0   836.000000     6855.03559   \n",
       "101501   56                                     0  3568.000000     6855.03559   \n",
       "101502   29                                     0     0.198918     5916.00000   \n",
       "\n",
       "        NumberOfOpenCreditLinesAndLoans  NumberOfTimes90DaysLate  \\\n",
       "0                                     4                        0   \n",
       "1                                    15                        0   \n",
       "2                                    12                        0   \n",
       "3                                     7                        0   \n",
       "4                                     4                        0   \n",
       "...                                 ...                      ...   \n",
       "101498                                5                        0   \n",
       "101499                                8                        0   \n",
       "101500                                3                        0   \n",
       "101501                                8                        0   \n",
       "101502                               12                        0   \n",
       "\n",
       "        NumberRealEstateLoansOrLines  NumberOfTime60-89DaysPastDueNotWorse  \\\n",
       "0                                  0                                     0   \n",
       "1                                  4                                     0   \n",
       "2                                  1                                     0   \n",
       "3                                  2                                     0   \n",
       "4                                  0                                     0   \n",
       "...                              ...                                   ...   \n",
       "101498                             0                                     0   \n",
       "101499                             2                                     0   \n",
       "101500                             0                                     0   \n",
       "101501                             2                                     1   \n",
       "101502                             0                                     0   \n",
       "\n",
       "        NumberOfDependents  Probability  \n",
       "0                 0.000000     0.289201  \n",
       "1                 2.000000     0.210143  \n",
       "2                 2.000000     0.067803  \n",
       "3                 0.000000     0.311210  \n",
       "4                 1.000000     0.415595  \n",
       "...                    ...          ...  \n",
       "101498            0.000000     0.157863  \n",
       "101499            4.000000     0.747479  \n",
       "101500            0.769046     0.025231  \n",
       "101501            3.000000     0.285137  \n",
       "101502            0.000000     0.207762  \n",
       "\n",
       "[101503 rows x 13 columns]"
      ]
     },
     "execution_count": 87,
     "metadata": {},
     "output_type": "execute_result"
    }
   ],
   "source": [
    "test_df"
   ]
  },
  {
   "cell_type": "code",
   "execution_count": 88,
   "metadata": {},
   "outputs": [],
   "source": [
    "test_df['Id'] = test_df['Unnamed: 0']"
   ]
  },
  {
   "cell_type": "code",
   "execution_count": 89,
   "metadata": {},
   "outputs": [],
   "source": [
    "import datetime\n",
    "test_df[['Id', 'Probability']].to_csv(f'submission__{datetime.datetime.now().strftime(\"%Y-%m-%d__%H-%M\")}.csv', index=False, header=True)"
   ]
  },
  {
   "cell_type": "code",
   "execution_count": null,
   "metadata": {},
   "outputs": [],
   "source": []
  }
 ],
 "metadata": {
  "kernelspec": {
   "display_name": "Python 3",
   "language": "python",
   "name": "python3"
  },
  "language_info": {
   "codemirror_mode": {
    "name": "ipython",
    "version": 3
   },
   "file_extension": ".py",
   "mimetype": "text/x-python",
   "name": "python",
   "nbconvert_exporter": "python",
   "pygments_lexer": "ipython3",
   "version": "3.7.7"
  }
 },
 "nbformat": 4,
 "nbformat_minor": 4
}